{
  "nbformat": 4,
  "nbformat_minor": 0,
  "metadata": {
    "colab": {
      "name": "Multivariate gaussian",
      "provenance": [],
      "collapsed_sections": []
    },
    "kernelspec": {
      "name": "python3",
      "display_name": "Python 3"
    }
  },
  "cells": [
    {
      "cell_type": "markdown",
      "metadata": {
        "id": "_LMZO7U9wobp"
      },
      "source": [
        "#Author: Hyunwoo Choi\r\n",
        "#Mail: herochw@gmail.com\r\n"
      ]
    },
    {
      "cell_type": "code",
      "metadata": {
        "id": "k7o5VslNq0JF"
      },
      "source": [
        "import torch\n",
        "import numpy as np\n",
        "import torchvision.datasets as dsets\n",
        "import torchvision.transforms as transforms\n",
        "from torch.distributions import multivariate_normal\n",
        "\n",
        "import matplotlib\n",
        "import matplotlib.pyplot as plt\n",
        "from matplotlib.pyplot import figure, imshow, axis\n",
        "\n",
        "import random"
      ],
      "execution_count": 77,
      "outputs": []
    },
    {
      "cell_type": "markdown",
      "metadata": {
        "id": "MPk3u6vFZEyY"
      },
      "source": [
        "# Load MNIST data"
      ]
    },
    {
      "cell_type": "code",
      "metadata": {
        "id": "phOBNPJg0KbH"
      },
      "source": [
        "train_data = np.loadtxt('/content/train.txt')\r\n",
        "train_vec = train_data[:,:-1]\r\n",
        "train_lab = train_data[:,-1]\r\n",
        "\r\n",
        "train_x = torch.tensor(train_vec)\r\n",
        "train_y = torch.tensor(train_lab)\r\n",
        "\r\n",
        "val_data = np.loadtxt('/content/validate.txt')\r\n",
        "val_vec = val_data[:,:-1]\r\n",
        "val_lab = val_data[:,-1]\r\n",
        "\r\n",
        "val_x = torch.tensor(val_vec)\r\n",
        "val_y = torch.tensor(val_lab)\r\n",
        "\r\n",
        "test_data = np.loadtxt('/content/test.txt')\r\n",
        "test_vac = test_data[:,:-1]\r\n",
        "test_lab = test_data[:,-1]"
      ],
      "execution_count": 78,
      "outputs": []
    },
    {
      "cell_type": "markdown",
      "metadata": {
        "id": "R5W9LFkIZScb"
      },
      "source": [
        "#Sample and view dataset"
      ]
    },
    {
      "cell_type": "code",
      "metadata": {
        "colab": {
          "base_uri": "https://localhost:8080/",
          "height": 201
        },
        "id": "ynjCQpX7ZS0s",
        "outputId": "a543415f-f429-415b-c05f-06e2b4a2aca3"
      },
      "source": [
        "fig  = figure(figsize=(30,15))\r\n",
        "for i in range(1,10):\r\n",
        "  a = fig.add_subplot(1,10,i)\r\n",
        "  j = random.randint(0,2000)\r\n",
        "  image = train_x[j].view(-1,28,28).T\r\n",
        "  label = train_y[j]\r\n",
        "  imshow(np.squeeze(image),cmap='gray')\r\n",
        "  a.set_title('label: {}'.format(label))\r\n",
        "  #axis('off')\r\n",
        "  "
      ],
      "execution_count": 79,
      "outputs": [
        {
          "output_type": "display_data",
          "data": {
            "image/png": "[encoded data removed]",
            "text/plain": [
              "<Figure size 2160x1080 with 9 Axes>"
            ]
          },
          "metadata": {
            "tags": [],
            "needs_background": "light"
          }
        }
      ]
    },
    {
      "cell_type": "markdown",
      "metadata": {
        "id": "tEoLe94hjKen"
      },
      "source": [
        "#Generate feature \r\n",
        " Output: Number of non-zero pixels on each row & each col (none,56)"
      ]
    },
    {
      "cell_type": "code",
      "metadata": {
        "id": "qMv7JRafjKqJ"
      },
      "source": [
        "def feature(X, threshold=0):\r\n",
        "\r\n",
        "  x_row = (X > threshold).reshape(-1,28,28).sum(dim=1)\r\n",
        "  x_col = (X > threshold).reshape(-1,28,28).sum(dim=2)\r\n",
        "  return torch.cat([x_row,x_col],dim=1).double()"
      ],
      "execution_count": 80,
      "outputs": []
    },
    {
      "cell_type": "markdown",
      "metadata": {
        "id": "PeVl74n6KWdi"
      },
      "source": [
        "#Training the Multivariate Normal \r\n",
        "\r\n",
        "---\r\n",
        "\r\n",
        "\r\n",
        ">Fit a Gaussian to data points $x^{(1)}, x^{(2)}, x^{(3)}, ... , x^{(n)} \\in \\mathbb{R}^{d}$\r\n",
        "\r\n",
        ">$ mean = \\frac{1}{\\mu} (x^{(1)} + x^{(2)} + x^{(3)} +  ... + x^{(n)}) $\r\n",
        "\r\n",
        ">Covariance Matrix $\\sum_{ij} =  \\frac{1}{m} \\sum_{k=1}^{n} (x_{i}^{k} - \\mu^{i})(x_{j}^{k} - \\mu^{j})$\r\n",
        "\r\n",
        ">More Compact Notation: $\\sum =  \\frac{1}{m} \\sum_{k=1}^{n} (x_{i}^{k} - \\mu^{i})(x_{j}^{k} - \\mu^{j})^{T} + C \\cdot I_{d}$ where C is a small positive int\r\n"
      ]
    },
    {
      "cell_type": "code",
      "metadata": {
        "id": "vqQdVLwZ0jZO"
      },
      "source": [
        "dists = []\r\n",
        "c = 5 # constant\r\n",
        "for index in range(0,10,1):\r\n",
        "  mask = torch.eq(train_y,index)\r\n",
        "  x_by_label = train_x[mask]\r\n",
        "\r\n",
        "  X = feature(x_by_label)\r\n",
        "  \r\n",
        "  x_mean = torch.mean(X,dim = 0)\r\n",
        "  x_var = torch.var(X, dim = 0)\r\n",
        "  x_cov = torch.from_numpy(np.cov(X, rowvar=False)) + torch.eye(56) * c\r\n",
        "\r\n",
        "  gaussian_dist = torch.distributions.multivariate_normal.MultivariateNormal(x_mean,x_cov)\r\n",
        "  dists.append(gaussian_dist)"
      ],
      "execution_count": 76,
      "outputs": []
    },
    {
      "cell_type": "markdown",
      "metadata": {
        "id": "Bf_Nkh9TT7xe"
      },
      "source": [
        "#Evaluate the data\r\n",
        "\r\n",
        "---\r\n",
        ">Multiclass Discriminative Analysis\r\n",
        "\r\n",
        ">$k$ Classes, $\\pi_{j}$ weights, Class conditional density $P_j = N(\\mu,\\sum)$\r\n",
        "\r\n",
        "> The quadratic function $f_j(x) = \\log(\\pi_j \\cdot p_j(x))$\r\n",
        "\r\n",
        "> To classify the point $x$, pick  arg$max_{j} f_{j}(x)$"
      ]
    },
    {
      "cell_type": "code",
      "metadata": {
        "colab": {
          "base_uri": "https://localhost:8080/"
        },
        "id": "z8BMy75uJCxh",
        "outputId": "e80d810d-d931-407e-8851-31fe6ead8ce0"
      },
      "source": [
        "num_classes = 10 # {0,1,2, ... 9}\r\n",
        "weight = torch.tensor([0.1])\r\n",
        "correct = 0\r\n",
        "wrong = []\r\n",
        "\r\n",
        "for i in range(val_x.shape[0]):\r\n",
        "  X = val_x[i]\r\n",
        "  Y = val_y[i]\r\n",
        "  pre_X = feature(torch.reshape(X,(1,-1)))\r\n",
        "  result = [dists[j].log_prob(pre_X) + torch.log(weight) for j in range(num_classes)]\r\n",
        "  prediction = torch.argmax(torch.tensor(result))\r\n",
        "  if prediction == Y.long():\r\n",
        "    correct += 1\r\n",
        "  else:\r\n",
        "    wrong.append([X,prediction])\r\n",
        "print(\"The accuracy is {:.3f}\".format(correct/ val_x.shape[0]))"
      ],
      "execution_count": 74,
      "outputs": [
        {
          "output_type": "stream",
          "text": [
            "The accuracy is 0.807\n"
          ],
          "name": "stdout"
        }
      ]
    },
    {
      "cell_type": "markdown",
      "metadata": {
        "id": "GWUyO1F_m4ne"
      },
      "source": [
        "#Wrongly predicted images"
      ]
    },
    {
      "cell_type": "code",
      "metadata": {
        "colab": {
          "base_uri": "https://localhost:8080/",
          "height": 201
        },
        "id": "4WtVu4TUm43o",
        "outputId": "70c0b385-55c6-4afb-c498-9edde394ea34"
      },
      "source": [
        "fig  = figure(figsize=(30,15))\r\n",
        "for i in range(1,10):\r\n",
        "  a = fig.add_subplot(1,10,i)\r\n",
        "  sample = random.choice(wrong)\r\n",
        "  image = sample[0].view(-1,28,28).T\r\n",
        "  label = sample[1]\r\n",
        "  imshow(np.squeeze(image),cmap='gray')\r\n",
        "  a.set_title('label predicted as: {}'.format(label))\r\n",
        "  #axis('off')"
      ],
      "execution_count": 61,
      "outputs": [
        {
          "output_type": "display_data",
          "data": {
            "image/png": "[encoded data removed]",
            "text/plain": [
              "<Figure size 2160x1080 with 9 Axes>"
            ]
          },
          "metadata": {
            "tags": [],
            "needs_background": "light"
          }
        }
      ]
    }
  ]
}