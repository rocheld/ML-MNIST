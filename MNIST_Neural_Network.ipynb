{
  "nbformat": 4,
  "nbformat_minor": 0,
  "metadata": {
    "kernelspec": {
      "display_name": "Python 3",
      "language": "python",
      "name": "python3"
    },
    "language_info": {
      "codemirror_mode": {
        "name": "ipython",
        "version": 3
      },
      "file_extension": ".py",
      "mimetype": "text/x-python",
      "name": "python",
      "nbconvert_exporter": "python",
      "pygments_lexer": "ipython3",
      "version": "3.7.9"
    },
    "colab": {
      "name": "MNIST Neural Network.ipynb",
      "provenance": [],
      "collapsed_sections": []
    }
  },
  "cells": [
    {
      "cell_type": "code",
      "metadata": {
        "colab": {
          "base_uri": "https://localhost:8080/"
        },
        "id": "ZGXY-f2ONooo",
        "outputId": "b92ae0d3-82a5-412d-b20b-ff049037e27b"
      },
      "source": [
        "!pip install torch torchvision"
      ],
      "execution_count": 1,
      "outputs": [
        {
          "output_type": "stream",
          "text": [
            "Requirement already satisfied: torch in /usr/local/lib/python3.6/dist-packages (1.7.0+cu101)\n",
            "Requirement already satisfied: torchvision in /usr/local/lib/python3.6/dist-packages (0.8.1+cu101)\n",
            "Requirement already satisfied: dataclasses in /usr/local/lib/python3.6/dist-packages (from torch) (0.8)\n",
            "Requirement already satisfied: typing-extensions in /usr/local/lib/python3.6/dist-packages (from torch) (3.7.4.3)\n",
            "Requirement already satisfied: numpy in /usr/local/lib/python3.6/dist-packages (from torch) (1.19.4)\n",
            "Requirement already satisfied: future in /usr/local/lib/python3.6/dist-packages (from torch) (0.16.0)\n",
            "Requirement already satisfied: pillow>=4.1.1 in /usr/local/lib/python3.6/dist-packages (from torchvision) (7.0.0)\n"
          ],
          "name": "stdout"
        }
      ]
    },
    {
      "cell_type": "markdown",
      "metadata": {
        "id": "vqGrNQqkNr5S"
      },
      "source": [
        "#MNIST Neural Network Models\n",
        "1. Multi-Layer perceptron Model\n",
        "2. Single Layer Convolution Neural Network Model\n",
        "3. Multi-Layer Convolution Nerual Network Model\n",
        "\n",
        ">3 different network models has implemented to train the machine \n",
        ">\n",
        ">with a uniform dataset to determine the model with the best accuray. \n",
        "\n",
        "\n"
      ]
    },
    {
      "cell_type": "code",
      "metadata": {
        "id": "yHxRy5R-Noov"
      },
      "source": [
        "\n",
        "\"\"\"\n",
        "baselines.py: contains all your network structure definition\n",
        "including layers definition and forward pass function definition\n",
        "\"\"\"\n",
        "# PyTorch and neural network imports\n",
        "import torch\n",
        "import torch.nn as nn\n",
        "import torch.optim as optim\n",
        "import torch.utils.data as utils\n",
        "import numpy as np\n",
        "\n",
        "from matplotlib import pyplot as plt\n",
        "from matplotlib.pyplot import figure, imshow, axis\n",
        "\n",
        "# set the randomness to keep reproducible results\n",
        "torch.manual_seed(0)\n",
        "np.random.seed(0)\n",
        "\n",
        "# input size to your mlp network\n",
        "mlp_input_size = 784  # IMG size = (28,28) --> 28*28 = 784 total \n",
        "# final output size of your mlp network (output layer)\n",
        "mlp_output_size = 10  # NUM classes 0 to 9 digits\n",
        "mlp_hidden_size = 200\n",
        "# num_epochs = 20  # number of times which the entire dataset is passed throughout the model\n",
        "# batch_size = 32 # the size if input data took for one iteration\n",
        "num_iter = 50\n",
        "learning_rate = 0.04\n",
        "batch_size = 32"
      ],
      "execution_count": 2,
      "outputs": []
    },
    {
      "cell_type": "markdown",
      "metadata": {
        "id": "SL2DIaaIeEOJ"
      },
      "source": [
        "#Multi-Layer Perceptron Model\n",
        "---\n",
        "Consists of one hidden layer and 1 output layer (all fully connected)\n",
        "\n"
      ]
    },
    {
      "cell_type": "code",
      "metadata": {
        "id": "wQQQkOrUNoow"
      },
      "source": [
        "\n",
        "class BaselineMLP(nn.Module):\n",
        "    def __init__(self):\n",
        "        \"\"\"\n",
        "        A multilayer perceptron model\n",
        "        Consists of one hidden layer and 1 output layer (all fully connected)\n",
        "        \"\"\"\n",
        "        super(BaselineMLP, self).__init__()\n",
        "        # a fully connected layer from input layer to hidden layer\n",
        "        # mlp_input_size denotes how many input neurons you have\n",
        "        # mlp_hiddent_size denotes how many hidden neurons you have\n",
        "        self.fc1 = nn.Linear(mlp_input_size, mlp_hidden_size)\n",
        "        # a fully connected layer from hidden layer to output layer\n",
        "        # mlp_output_size denotes how many output neurons you have\n",
        "        self.fc2 = nn.Linear(mlp_hidden_size, mlp_output_size)\n",
        "        self.dropout = nn.Dropout2d(0.2)\n",
        "        self.LeakyReLu = torch.nn.LeakyReLU()\n",
        "    def forward(self, X):\n",
        "        \"\"\"\n",
        "        Pass the batch of images through each layer of the network, applying \n",
        "        logistic activation function after hidden layer.\n",
        "        \"\"\"\n",
        "        # pass X from input layer to hidden layer\n",
        "        out = self.fc1(X)\n",
        "        # apply an activation function to the output of hidden layer\n",
        "        # out = torch.sigmoid(out)\n",
        "        out = self.LeakyReLu(out)\n",
        "        \n",
        "        # pass output from hidden layer to output layer\n",
        "        out = self.fc2(out)\n",
        "        # return the feed forward output\n",
        "        # you don't need to apply another activation function here if\n",
        "        # the loss function you use already implement it for you\n",
        "        return out"
      ],
      "execution_count": 26,
      "outputs": []
    },
    {
      "cell_type": "markdown",
      "metadata": {
        "id": "73gV3B5ReCn1"
      },
      "source": [
        "# Basic CNN model\n",
        "---\n",
        "> A basic convolutional neural network model for baseline comparison.\n",
        "\n",
        "> Consists of one Conv2d layer, followed by 1 fully-connected (FC)\n",
        "layer:\n",
        "  conv1 -> fc1 (outputs)"
      ]
    },
    {
      "cell_type": "code",
      "metadata": {
        "id": "KY4jcl7CNoox"
      },
      "source": [
        "class BaselineCNN(nn.Module):\n",
        "    def __init__(self):\n",
        "        \"\"\"\n",
        "        A basic convolutional neural network model for baseline comparison.\n",
        "        Consists of one Conv2d layer, followed by 1 fully-connected (FC) layer:\n",
        "        conv1 -> fc1 (outputs)\n",
        "        \"\"\"\n",
        "        super(BaselineCNN, self).__init__()\n",
        "        # define different layers\n",
        "        # filter 1 : 5X5 kernel with 10 filters, stride 1 , zero-paddiing 2\n",
        "        # tanh as non-linear activation\n",
        "        self.conv1 = nn.Sequential(nn.Conv2d(1,10,5, stride=1, padding=2),nn.Tanh())\n",
        "        self.fc1 = nn.Linear(28*28*10,10)\n",
        "\n",
        "    def forward(self, X):\n",
        "        \"\"\"\n",
        "        Pass the batch of images through each layer of the network, applying \n",
        "        non-linearities after each layer.\n",
        "\n",
        "        Note that this function *needs* to be called \"forward\" for PyTorch to \n",
        "        automagically perform the forward pass.\n",
        "\n",
        "        You may need the function \"num_fc_features\" below to help implement \n",
        "        this function\n",
        "\n",
        "        Parameters: X --- an input batch of images\n",
        "        Returns:    out --- the output of the network\n",
        "        \"\"\"\n",
        "        # define the forward function\n",
        "        X = self.conv1(X)\n",
        "        X = X.view(-1, self.num_fc_features(X))\n",
        "        X = self.fc1(X)\n",
        "        out = X\n",
        "        return out\n",
        "\n",
        "    \"\"\"\n",
        "    Count the number of flattened features to be passed to fully connected layers\n",
        "    Parameters: inputs --- 4-dimensional [batch x num_channels x conv width x conv height]\n",
        "                            output from the last conv layer\n",
        "    Return: num_features --- total number of flattened features for the last layer\n",
        "    \"\"\"\n",
        "\n",
        "    def num_fc_features(self, inputs):\n",
        "\n",
        "        # Get the dimensions of the layers excluding the batch number\n",
        "        size = inputs.size()[1:]\n",
        "        # Track the number of features\n",
        "        num_features = 1\n",
        "\n",
        "        for s in size:\n",
        "            num_features *= s\n",
        "\n",
        "        return num_features"
      ],
      "execution_count": 4,
      "outputs": []
    },
    {
      "cell_type": "markdown",
      "metadata": {
        "id": "g5zisnG2fBOu"
      },
      "source": [
        "# MyCNN Model\n",
        "---\n",
        "\n",
        "\n",
        "> A convolutional neural network model with more layers.\n",
        "\n",
        "\n",
        "\n",
        "> Conv1 -> Multi-pool -> Conv2 -> Multi-pool -> Fully Connected Layer(FC1) -> FC2 ->Out\n",
        "\n",
        "$$\n",
        "n_{\\textrm{out}} = \\textrm{Floor}\\left[\\frac{n_{\\textrm{in}}+2\\textrm{pad}-\\textrm{kernel size}}{\\textrm{stride}}\\right]\n",
        "$$\n",
        "where $n$ is the number of input features\n",
        "\n"
      ]
    },
    {
      "cell_type": "code",
      "metadata": {
        "id": "rzAmfuPoNoox"
      },
      "source": [
        "\"\"\"\n",
        "TODO: you may need to define your new neural network here\n",
        "\"\"\"\n",
        "class MyCNN(nn.Module):\n",
        "    def __init__(self):\n",
        "\n",
        "        super(MyCNN, self).__init__()\n",
        "        # filter 1 : 5X5 kernel with 8 filters, stride 1 , zero-paddiing 2\n",
        "        self.conv1 = nn.Sequential(nn.Conv2d(1,8,5, stride=1, padding=2),nn.LeakyReLU())\n",
        "        self.conv2 = nn.Sequential(nn.Conv2d(8,16,5, stride=1), nn.LeakyReLU())\n",
        "        self.ReLU = nn.LeakyReLU()\n",
        "        self.mp = nn.MaxPool2d((2,2))\n",
        "        self.fc1 = nn.Linear(5*5*16,256)\n",
        "        self.fc2 = nn.Linear(256,64)\n",
        "        self.fc3 = nn.Linear(64,10)\n",
        "        \n",
        "    def forward(self, X):\n",
        "        # X = 32*32\n",
        "        X = self.conv1(X) # x = 28*28*8 \n",
        "        X = self.mp(X)    # x = 14*14*8\n",
        "        X = self.conv2(X) # x = 10*10*16\n",
        "        X = self.mp(X)    # x = 5*5*16\n",
        "        X = X.view(-1, self.num_fc_features(X))\n",
        "        X = self.ReLU(self.fc1(X))\n",
        "        X = self.ReLU(self.fc2(X))\n",
        "        X = self.fc3(X)\n",
        "        out = X\n",
        "        return out\n",
        "    \n",
        "    def num_fc_features(self, inputs):\n",
        "\n",
        "        # Get the dimensions of the layers excluding the batch number\n",
        "        size = inputs.size()[1:]\n",
        "        # Track the number of features\n",
        "        num_features = 1\n",
        "\n",
        "        for s in size:\n",
        "            num_features *= s\n",
        "\n",
        "        return num_features"
      ],
      "execution_count": 5,
      "outputs": []
    },
    {
      "cell_type": "markdown",
      "metadata": {
        "id": "Hl_Zxj4Pf_BJ"
      },
      "source": [
        "# Data Loader\n",
        "---\n",
        "> Read data from the specified training, validation and test data files.\n",
        "\n",
        "> Input: The whole image\n",
        "\n"
      ]
    },
    {
      "cell_type": "code",
      "metadata": {
        "id": "JH5ofFTrNooy"
      },
      "source": [
        "\n",
        "def read_data(trainFile, valFile, testFile):\n",
        "    # trian, validation, and test data loader\n",
        "    data_loaders = []\n",
        "\n",
        "    # read training, test, and validation data\n",
        "    for file in [trainFile, valFile, testFile]:\n",
        "        # read data\n",
        "        data = np.loadtxt(file)\n",
        "        # digit images\n",
        "        imgs = torch.tensor(data[:,:-1]).float()\n",
        "        # divide each image by its maximum pixel value for numerical stability\n",
        "        imgs = imgs / torch.max(imgs,dim=1).values[:,None]\n",
        "\n",
        "        # labels for each image\n",
        "        labels = torch.tensor(data[:,-1]).long()\n",
        "\n",
        "        # if using CNN model, reshape each image:\n",
        "        # [batch x num_channel x image width x image height]\n",
        "        if not use_mlp:\n",
        "            imgs = imgs.view(-1,1,28,28)\n",
        "\n",
        "        # create dataset and dataloader, a container to efficiently load data in batches\n",
        "        dataset = utils.TensorDataset(imgs,labels)\n",
        "        dataloader = utils.DataLoader(dataset, batch_size=batch_size, shuffle=True)\n",
        "        data_loaders.append(dataloader)\n",
        "\n",
        "    return data_loaders[0], data_loaders[1], data_loaders[2]"
      ],
      "execution_count": 6,
      "outputs": []
    },
    {
      "cell_type": "markdown",
      "metadata": {
        "id": "FQAZEQJ8InsF"
      },
      "source": [
        "# Train Model #1: Multilayer Perceptron (MLP)"
      ]
    },
    {
      "cell_type": "code",
      "metadata": {
        "id": "ONpS-DDTNooz"
      },
      "source": [
        "\"\"\"\n",
        "Train Multilayer Perceptron (MLP)\n",
        "Initialize MLP model --> define loss function --> define optimizer\n",
        "--> train model with num_iter epochs --> pick the best model and return\n",
        "    - Parameters:   train_loader --- the train dataloader\n",
        "                    val_loader --- the validation dataloader\n",
        "    - Return:       net --- the best trained MLP network with the lowest validation loss\n",
        "                    avg_train_loss --- a list of averaged training loss of length num_iter\n",
        "                    avg_val_loss --- a list of averaged validation loss of length num_iter\n",
        "\"\"\"\n",
        "def trainMLP(train_loader,val_loader):\n",
        "    # average training loss, one value per iteration (averaged over all batches in one iteration)\n",
        "    avg_train_loss = []\n",
        "    # average validation loss, one value per iteration (averaged over all batches in one iteration)\n",
        "    avg_val_loss = []\n",
        "    # record the lowest validation loss, used to determine early stopping (best model)\n",
        "    best_val_score = float('inf')\n",
        "    \n",
        "    net = BaselineMLP()\n",
        "    # define loss function\n",
        "    # define optimizer\n",
        "    loss_function = nn.CrossEntropyLoss()\n",
        "    optimizer = torch.optim.SGD(net.parameters(), lr = learning_rate)\n",
        "    \n",
        "    # define L2 regularization Lambda\n",
        "    lamb = 0.0003\n",
        "    \n",
        "    # for each iteration, iteratively train all batches\n",
        "    i = 0\n",
        "    while i < num_iter:\n",
        "        train_loss = 0\n",
        "        # batch size\n",
        "        size = 0\n",
        "        for index,(imgs,labels) in enumerate(train_loader):\n",
        "            optimizer.zero_grad()\n",
        "            outputs = net(imgs)\n",
        "            loss = loss_function(outputs, labels)\n",
        "            \n",
        "            # l2 reg\n",
        "            l2_reg = torch.tensor(0.)\n",
        "            for param in net.parameters():\n",
        "                if len(param.shape) > 1:\n",
        "                    l2_reg += torch.norm(param,p='fro')\n",
        "                else:\n",
        "                    l2_reg += torch.norm(param,p=2)\n",
        "                  \n",
        "            loss += lamb * l2_reg\n",
        "            \n",
        "            loss.backward()\n",
        "            optimizer.step()\n",
        "            train_loss += loss.item()\n",
        "            size = index + 1\n",
        "        \n",
        "        avg_train_loss.append(train_loss/size)\n",
        "        i=i+1\n",
        "        \n",
        "        # early stopping\n",
        "        # save the best model with lowest validation loss and load it to do testing\n",
        "        with torch.no_grad():\n",
        "            val_loss = 0\n",
        "            size = 0\n",
        "            avg_loss = 0\n",
        "            for index,(val_imgs, val_labels) in enumerate(val_loader):\n",
        "                val_output = net(val_imgs)\n",
        "                val_loss = loss_function(val_output,val_labels)\n",
        "                avg_loss += val_loss.item()\n",
        "                size = index+1\n",
        "                \n",
        "            avg_val_loss.append(avg_loss/size)\n",
        "            if avg_loss < best_val_score:\n",
        "                best_val_score = avg_loss\n",
        "                torch.save(net.state_dict(), './model.pt')\n",
        "                \n",
        "    net.load_state_dict(torch.load('./model.pt')) \n",
        "    return net, avg_train_loss, avg_val_loss"
      ],
      "execution_count": 7,
      "outputs": []
    },
    {
      "cell_type": "markdown",
      "metadata": {
        "id": "lGO6JNu_Lauu"
      },
      "source": [
        "#Train Model #2  Single Layer Convolutional Neural Network"
      ]
    },
    {
      "cell_type": "code",
      "metadata": {
        "id": "wHsuWbbDNooz"
      },
      "source": [
        "\n",
        "\"\"\"\n",
        "Train Baseline Convolutional Neural Network (CNN)\n",
        "Initialize CNN model --> define loss function --> define optimizer\n",
        "--> train model with num_iter epochs --> pick the best model and return\n",
        "    - parameters:   train_loader --- the train dataloader\n",
        "                    val_loader --- the validation dataloader\n",
        "    - return:       net --- the best trained CNN network with the lowest validation loss\n",
        "                    train_loss --- a list of training loss\n",
        "\"\"\"\n",
        "def trainCNN(train_loader,val_loader):\n",
        "    # average training loss, one value per iteration (averaged over all batches in one iteration)\n",
        "    avg_train_loss = []\n",
        "    # average validation loss, one value per iteration (averaged over all batches in one iteration)\n",
        "    avg_val_loss = []\n",
        "    # record the lowest validation loss, used to determine early stopping (best model)\n",
        "    best_val_score = float('inf')\n",
        "    net = BaselineCNN()\n",
        "    \n",
        "    # define loss function\n",
        "    # define optimizer\n",
        "    # for each epoch, iteratively train all batches\n",
        "    \n",
        "    loss_function = nn.CrossEntropyLoss()\n",
        "    optimizer = torch.optim.SGD(net.parameters(), lr = learning_rate)\n",
        "    lamb = 0.0004\n",
        "    i = 0\n",
        "    while i < num_iter:\n",
        "        \n",
        "        # implement training and early stopping\n",
        "        \n",
        "        train_loss = 0\n",
        "        size = 0\n",
        "        for index,(images, labels) in enumerate(train_loader):\n",
        "            optimizer.zero_grad()\n",
        "            outputs = net(images)\n",
        "            loss = loss_function(outputs,labels)\n",
        "            # l2 reg\n",
        "            l2_reg = torch.tensor(0.)\n",
        "            for param in net.parameters():\n",
        "                if len(param.shape) > 1:\n",
        "                    l2_reg += torch.norm(param,p='fro')\n",
        "                else:\n",
        "                    l2_reg += torch.norm(param,p=2)\n",
        "                  \n",
        "            loss += lamb * l2_reg\n",
        "            train_loss += loss\n",
        "            size = index + 1\n",
        "            loss.backward()\n",
        "            optimizer.step()\n",
        "        \n",
        "        avg_train_loss.append(train_loss/size)\n",
        "        i = i+1\n",
        "        \n",
        "        # Save the best model with lowest validation loss and load it to do testing\n",
        "        with torch.no_grad():\n",
        "            val_loss = 0\n",
        "            size = 0\n",
        "            for index,(val_imgs, val_labels) in enumerate(val_loader):\n",
        "                val_output = net(val_imgs)\n",
        "                loss = loss_function(val_output,val_labels)\n",
        "                val_loss += loss.item()\n",
        "                size = index+1\n",
        "            \n",
        "            val_loss = val_loss/size\n",
        "            avg_val_loss.append(val_loss)\n",
        "            if val_loss < best_val_score:\n",
        "                best_val_score = val_loss\n",
        "                torch.save(net.state_dict(), './model.pt')\n",
        "            \n",
        "            \n",
        "    net.load_state_dict(torch.load('./model.pt'))         \n",
        "    return net, avg_train_loss, avg_val_loss"
      ],
      "execution_count": 8,
      "outputs": []
    },
    {
      "cell_type": "markdown",
      "metadata": {
        "id": "NiVSON2wLhy7"
      },
      "source": [
        "#Train Model #3: My Multi-Layer Convolutional Neural Network (CNN)"
      ]
    },
    {
      "cell_type": "code",
      "metadata": {
        "id": "T-BIRxhVNoo0"
      },
      "source": [
        "def trainMyCNN(train_loader,val_loader):\n",
        "    lamb = 0.0004\n",
        "    mylr = 0.04\n",
        "    # average training loss, one value per iteration (averaged over all batches in one iteration)\n",
        "    avg_train_loss = []\n",
        "    # average validation loss, one value per iteration (averaged over all batches in one iteration)\n",
        "    avg_val_loss = []\n",
        "    # record the lowest validation loss, used to determine early stopping (best model)\n",
        "    best_val_score = float('inf')\n",
        "    net = MyCNN()\n",
        "\n",
        "    # define loss function\n",
        "    # define optimizer\n",
        "    # for each epoch, iteratively train all batches\n",
        "    \n",
        "    loss_function = nn.CrossEntropyLoss()\n",
        "    optimizer = torch.optim.SGD(net.parameters(), lr = mylr)\n",
        "    \n",
        "    i = 0\n",
        "    while i < num_iter:\n",
        "        train_loss = 0\n",
        "        size = 0\n",
        "        for index,(images, labels) in enumerate(train_loader):\n",
        "            optimizer.zero_grad()\n",
        "            outputs = net(images)\n",
        "            loss = loss_function(outputs,labels)\n",
        "            \n",
        "            # l2 reg\n",
        "            l2_reg = torch.tensor(0.)\n",
        "            for param in net.parameters():\n",
        "                if len(param.shape) > 1:\n",
        "                    l2_reg += torch.norm(param,p='fro')\n",
        "                else:\n",
        "                    l2_reg += torch.norm(param,p=2)\n",
        "                  \n",
        "            loss += lamb * l2_reg\n",
        "            train_loss += loss\n",
        "            size = index + 1\n",
        "            loss.backward()\n",
        "            optimizer.step()\n",
        "        \n",
        "        avg_train_loss.append(train_loss/size)\n",
        "        i = i+1\n",
        "            \n",
        "        with torch.no_grad():\n",
        "            val_loss = 0\n",
        "            size = 0\n",
        "            for index,(val_imgs, val_labels) in enumerate(val_loader):\n",
        "                val_output = net(val_imgs)\n",
        "                loss = loss_function(val_output,val_labels)\n",
        "                val_loss += loss.item()\n",
        "                size = index+1\n",
        "            \n",
        "            val_loss = val_loss/size\n",
        "            avg_val_loss.append(val_loss)\n",
        "            if val_loss < best_val_score:\n",
        "                best_val_score = val_loss\n",
        "                torch.save(net.state_dict(), './model.pt')\n",
        "            \n",
        "            \n",
        "    net.load_state_dict(torch.load('./model.pt'))         \n",
        "    return net, avg_train_loss, avg_val_loss"
      ],
      "execution_count": 9,
      "outputs": []
    },
    {
      "cell_type": "markdown",
      "metadata": {
        "id": "fJf0vqtEPKl4"
      },
      "source": [
        "# Evaluation"
      ]
    },
    {
      "cell_type": "code",
      "metadata": {
        "id": "4MASkjz7Noo1"
      },
      "source": [
        "\"\"\"\n",
        "Evaluate the model, using unseen data features \"X\" and\n",
        "corresponding labels \"y\".\n",
        "Parameters: loader --- the test loader\n",
        "            net --- the best trained network\n",
        "Return: the accuracy on test set\n",
        "\"\"\"\n",
        "def evaluate(loader, net):\n",
        "    total = 0\n",
        "    correct = 0\n",
        "    # use model to get predictions\n",
        "    for X, y in loader:\n",
        "        outputs = net(X)\n",
        "        predictions = torch.argmax(outputs.data, 1)\n",
        "        \n",
        "        # total number of items in dataset\n",
        "        total += y.shape[0]\n",
        "\n",
        "        # number of correctly labeled items in dataset\n",
        "        correct += torch.sum(predictions == y)\n",
        "\n",
        "    # return fraction of correctly labeled items in dataset\n",
        "    return float(correct) / float(total)"
      ],
      "execution_count": 10,
      "outputs": []
    },
    {
      "cell_type": "markdown",
      "metadata": {
        "id": "RzuChfY2PNhN"
      },
      "source": [
        "# Main"
      ]
    },
    {
      "cell_type": "code",
      "metadata": {
        "id": "M1Qcpx3ANoo1"
      },
      "source": [
        "if __name__ == \"__main__\":\n",
        "\n",
        "    # change this to False if you want to \n",
        "    # test your CNN model\n",
        "    use_mlp = True\n",
        "    use_my_cnn = False\n",
        "    \n",
        "    # load data from file\n",
        "    train_loader, val_loader, test_loader = \\\n",
        "        read_data('/train.txt','/validate.txt', '/test.txt')\n"
      ],
      "execution_count": 12,
      "outputs": []
    },
    {
      "cell_type": "markdown",
      "metadata": {
        "id": "_-yRAlDEPQTK"
      },
      "source": [
        "#Model #1 Accuracy and Loss function"
      ]
    },
    {
      "cell_type": "code",
      "metadata": {
        "colab": {
          "base_uri": "https://localhost:8080/",
          "height": 312
        },
        "id": "iY8Jbm-AL2oK",
        "outputId": "1bafa018-173d-4af7-bd48-e0735823749e"
      },
      "source": [
        "    use_mlp = True\r\n",
        "    # load data from file\r\n",
        "    train_loader, val_loader, test_loader = read_data('/train.txt','/validate.txt', '/test.txt')\r\n",
        "    net, t_losses, v_losses = trainMLP(train_loader,val_loader)\r\n",
        "\r\n",
        "    # evaluate model on validation data\r\n",
        "\r\n",
        "    accuracy = evaluate(test_loader, net)  \r\n",
        "    print(\"Test accuracy: {}\".format(accuracy))\r\n",
        "\r\n",
        "    # plot losses\r\n",
        "    plt.plot(t_losses)\r\n",
        "    plt.plot(v_losses)\r\n",
        "    plt.legend([\"training_loss\",\"validation_loss\"])\r\n",
        "    plt.xlabel(\"Iteration\")\r\n",
        "    plt.ylabel(\"Loss\")\r\n",
        "    plt.title(\"Model 1 Loss plot\")\r\n",
        "    plt.show()\r\n",
        "    use_mlp = False"
      ],
      "execution_count": 16,
      "outputs": [
        {
          "output_type": "stream",
          "text": [
            "Test accuracy: 0.89\n"
          ],
          "name": "stdout"
        },
        {
          "output_type": "display_data",
          "data": {
            "image/png": "[encoded data removed]",
            "text/plain": [
              "<Figure size 432x288 with 1 Axes>"
            ]
          },
          "metadata": {
            "tags": [],
            "needs_background": "light"
          }
        }
      ]
    },
    {
      "cell_type": "markdown",
      "metadata": {
        "id": "Cc1wf1qgPPBI"
      },
      "source": [
        "#Model #2 Accuracy and Loss function"
      ]
    },
    {
      "cell_type": "code",
      "metadata": {
        "colab": {
          "base_uri": "https://localhost:8080/",
          "height": 312
        },
        "id": "VMPX3iaeMcu-",
        "outputId": "b61f2f2d-c307-456f-86f4-362b573d27c1"
      },
      "source": [
        "    # load data from file\r\n",
        "    train_loader, val_loader, test_loader = read_data('/train.txt','/validate.txt', '/test.txt')\r\n",
        "    net, t_losses, v_losses = trainCNN(train_loader,val_loader)\r\n",
        "\r\n",
        "    # evaluate model on validation data\r\n",
        "\r\n",
        "    accuracy = evaluate(test_loader, net)  \r\n",
        "    print(\"Test accuracy: {}\".format(accuracy))\r\n",
        "    # plot losses\r\n",
        "    plt.plot(t_losses)\r\n",
        "    plt.plot(v_losses)\r\n",
        "    plt.legend([\"training_loss\",\"validation_loss\"])\r\n",
        "    plt.xlabel(\"Iteration\")\r\n",
        "    plt.ylabel(\"Loss\")\r\n",
        "    plt.title(\"Model 2 Loss plot\")\r\n",
        "    plt.show()\r\n"
      ],
      "execution_count": 23,
      "outputs": [
        {
          "output_type": "stream",
          "text": [
            "Test accuracy: 0.901\n"
          ],
          "name": "stdout"
        },
        {
          "output_type": "display_data",
          "data": {
            "image/png": "[encoded data removed]",
            "text/plain": [
              "<Figure size 432x288 with 1 Axes>"
            ]
          },
          "metadata": {
            "tags": [],
            "needs_background": "light"
          }
        }
      ]
    },
    {
      "cell_type": "markdown",
      "metadata": {
        "id": "p_KhbqLcPkXA"
      },
      "source": [
        "#Model #3 Accuracy and Loss function"
      ]
    },
    {
      "cell_type": "code",
      "metadata": {
        "colab": {
          "base_uri": "https://localhost:8080/",
          "height": 312
        },
        "id": "15hTtmn8MyCZ",
        "outputId": "6839454f-b75c-43e9-eb90-2ec1b658c2f5"
      },
      "source": [
        "    net, t_losses, v_losses = trainMyCNN(train_loader,val_loader)\r\n",
        "    \r\n",
        "    # evaluate model on validation data\r\n",
        "    accuracy = evaluate(test_loader, net)  \r\n",
        "    print(\"Test accuracy: {}\".format(accuracy))\r\n",
        "    \r\n",
        "    # plot losses\r\n",
        "    plt.plot(t_losses)\r\n",
        "    plt.plot(v_losses)\r\n",
        "    plt.legend([\"training_loss\",\"validation_loss\"])\r\n",
        "    plt.xlabel(\"Iteration\")\r\n",
        "    plt.ylabel(\"Loss\")\r\n",
        "    plt.title(\"Model 3 Loss plot\")\r\n",
        "    plt.show()"
      ],
      "execution_count": 25,
      "outputs": [
        {
          "output_type": "stream",
          "text": [
            "Test accuracy: 0.955\n"
          ],
          "name": "stdout"
        },
        {
          "output_type": "display_data",
          "data": {
            "image/png": "[encoded data removed]",
            "text/plain": [
              "<Figure size 432x288 with 1 Axes>"
            ]
          },
          "metadata": {
            "tags": [],
            "needs_background": "light"
          }
        }
      ]
    },
    {
      "cell_type": "markdown",
      "metadata": {
        "id": "8nEXH1AkKbzd"
      },
      "source": [
        "#Conclusion\r\n",
        "\r\n",
        "\r\n",
        "---\r\n",
        "\r\n",
        "The CNN increased the accuracy by preserving the dimensions at each layers of the network as it proceed forward. The main part of implementation was adding more layers\r\n",
        "to the network. The architecture of network consists of 2 convolution layers and 2 maxpooling layers, 3 fully connected layers, and ReLU functions. The kernel size and the\r\n",
        "number of filtering of two convolution were used as follow; 5x5x10 and 5x5x16. By this\r\n",
        "implementation, the network produces more distinct data than the those from the previous\r\n",
        "models. Moreover, 3 fully connected layers decreased the dimensions of data gradually"
      ]
    }
  ]
}