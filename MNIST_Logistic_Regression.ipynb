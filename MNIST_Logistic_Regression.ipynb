{
  "nbformat": 4,
  "nbformat_minor": 0,
  "metadata": {
    "kernelspec": {
      "display_name": "Python 3",
      "language": "python",
      "name": "python3"
    },
    "language_info": {
      "codemirror_mode": {
        "name": "ipython",
        "version": 3
      },
      "file_extension": ".py",
      "mimetype": "text/x-python",
      "name": "python",
      "nbconvert_exporter": "python",
      "pygments_lexer": "ipython3",
      "version": "3.7.9"
    },
    "colab": {
      "name": "MNIST Logistic Regression.ipynb",
      "provenance": [],
      "toc_visible": true
    }
  },
  "cells": [
    {
      "cell_type": "code",
      "metadata": {
        "id": "N7F4SOgB3-3o",
        "outputId": "5431c9f0-04f6-4ed1-85fd-de72f599194a"
      },
      "source": [
        "!pip install sklearn"
      ],
      "execution_count": null,
      "outputs": [
        {
          "output_type": "stream",
          "text": [
            "Requirement already satisfied: sklearn in ./anaconda3/envs/cse150b/lib/python3.7/site-packages (0.0)\r\n",
            "Requirement already satisfied: scikit-learn in ./anaconda3/envs/cse150b/lib/python3.7/site-packages (from sklearn) (0.23.2)\r\n",
            "Requirement already satisfied: scipy>=0.19.1 in ./anaconda3/envs/cse150b/lib/python3.7/site-packages (from scikit-learn->sklearn) (1.5.4)\r\n",
            "Requirement already satisfied: threadpoolctl>=2.0.0 in ./anaconda3/envs/cse150b/lib/python3.7/site-packages (from scikit-learn->sklearn) (2.1.0)\r\n",
            "Requirement already satisfied: joblib>=0.11 in ./anaconda3/envs/cse150b/lib/python3.7/site-packages (from scikit-learn->sklearn) (0.17.0)\r\n",
            "Requirement already satisfied: numpy>=1.13.3 in ./anaconda3/envs/cse150b/lib/python3.7/site-packages (from scikit-learn->sklearn) (1.19.3)\r\n"
          ],
          "name": "stdout"
        }
      ]
    },
    {
      "cell_type": "code",
      "metadata": {
        "id": "CyxrGcpm3-3q"
      },
      "source": [
        "import torch\n",
        "import numpy as np\n",
        "from sklearn.utils import shuffle\n",
        "from matplotlib import pyplot as plt"
      ],
      "execution_count": null,
      "outputs": []
    },
    {
      "cell_type": "markdown",
      "metadata": {
        "id": "re8lj4445rMs"
      },
      "source": [
        "#Multi-class Logistic Regression \n",
        "\n",
        "\n",
        "---\n",
        "\n",
        ">The MNIST label set consists of ten possible digits. \n",
        "Multi-class model is used to determine the linear score $(w_t \\cdot x)$ of the corresponding digit $y$.\n"
      ]
    },
    {
      "cell_type": "code",
      "metadata": {
        "id": "SeZWTBRs3-3q"
      },
      "source": [
        "# hyperparameters for a classifier\n",
        "threshold = 120\n",
        "num_iter = 20\n",
        "learning_rate = 0.001\n",
        "reg_factor = 0.6"
      ],
      "execution_count": null,
      "outputs": []
    },
    {
      "cell_type": "code",
      "metadata": {
        "id": "52JPfXAw3-3r"
      },
      "source": [
        "\"\"\"\n",
        "Read data from the specified training, validation and test data files.\n",
        "\"\"\"\n",
        "\n",
        "\n",
        "def read_data(trainFile, valFile, testFile):\n",
        "    features = []\n",
        "    labels = []\n",
        "\n",
        "    # read training, test, and validation data\n",
        "    for file in [trainFile, valFile, testFile]:\n",
        "        # read data\n",
        "        data = np.loadtxt(file)\n",
        "\n",
        "        # transform into our feature space with \"fe()\"\n",
        "        features.append(fe(torch.tensor(data[:, :-1])))\n",
        "\n",
        "        labels.append(torch.tensor(data[:, -1]))\n",
        "\n",
        "    return features[0], labels[0], features[1], \\\n",
        "        labels[1], features[2], labels[2]"
      ],
      "execution_count": null,
      "outputs": []
    },
    {
      "cell_type": "code",
      "metadata": {
        "id": "JkkUMp6X3-3r"
      },
      "source": [
        "\"\"\"\n",
        "Feature that counts the number of pixels above a specified threshold\n",
        "in each row and column.\n",
        "\"\"\"\n",
        "\n",
        "def fe(X):\n",
        "    # get a \"binary image\" indicator of pixels above and below the threshold\n",
        "    X_binary = torch.where(X > threshold,\n",
        "                           torch.ones_like(X), torch.zeros_like(X)).reshape(-1, 28, 28)\n",
        "    \n",
        "    # calculate row and column features\n",
        "    X_row = X_binary.sum(dim=1)\n",
        "    X_col = X_binary.sum(dim=2)\n",
        "\n",
        "    # include a row of ones at the end for bias\n",
        "    return torch.cat([X_row, X_col, torch.ones(X_row.shape[0],\n",
        "                                               1, dtype=torch.float64)], dim=1)"
      ],
      "execution_count": null,
      "outputs": []
    },
    {
      "cell_type": "code",
      "metadata": {
        "id": "RU2K3LFb3-3r"
      },
      "source": [
        "\"\"\"\n",
        "Convert \"y\" into its one-hot-encoding equivalent.\n",
        "\"\"\"\n",
        "def one_hot(y):\n",
        "    y_one_hot = torch.zeros([y.shape[0], 10], dtype=torch.float64)\n",
        "    return y_one_hot.scatter(1, y.reshape(-1, 1).to(torch.long), 1)"
      ],
      "execution_count": null,
      "outputs": []
    },
    {
      "cell_type": "code",
      "metadata": {
        "id": "xi3DA0NQ3-3s"
      },
      "source": [
        "\"\"\"\n",
        "Get the scores for each class for each training point.\n",
        "\"\"\"\n",
        "\n",
        "def get_scores(X, w):\n",
        "    return torch.mm(X,w.T)"
      ],
      "execution_count": null,
      "outputs": []
    },
    {
      "cell_type": "markdown",
      "metadata": {
        "id": "7VXCovww4fVT"
      },
      "source": [
        "# Train\n",
        "\n",
        "---\n",
        "\n",
        " >The conditional probability of the digit label, $y$, given the image feature vector, $x$, when using this model class can be written as:\n",
        "$\n",
        "P_w(y|x) = \\frac{\\exp (w_y \\cdot x)}{\\sum_{y'} \\exp (w_{y'} \\cdot x)}$\n",
        "\n",
        "> The Loss function with L2 regularization can be written as: \n",
        "$ L(w) = -\\sum_{i=1}^n \\ln P_w(y|x) + \\ \\lambda \\|w\\|^2 = \\sum_{i=1}^n \\ln \\frac{\\sum_{y'} \\exp (w_{y'} \\cdot x)}{\\exp (w_{y'} \\cdot x)} + \\ \\lambda \\|w\\|^2 $\n"
      ]
    },
    {
      "cell_type": "code",
      "metadata": {
        "id": "4Z5SZJk43-3s"
      },
      "source": [
        "def train(X, y):\n",
        "    # convert index labels of y into a one-hot encoding\n",
        "    label = y.long()\n",
        "    one_hot_y = one_hot(y)\n",
        "    # loss list over iterations for plotting\n",
        "    losses = []\n",
        "    batch_size = 20\n",
        "    n_iter = 100\n",
        "    # initialize model weights\n",
        "    w = torch.rand((10, X.shape[1]), dtype=torch.float64, requires_grad=True)\n",
        "    i = 0\n",
        "    loss_func = torch.nn.CrossEntropyLoss()\n",
        "    \n",
        "    X, label = shuffle(X, label)\n",
        "    while i < num_iter:\n",
        "            for rep in range(n_iter):\n",
        "                \n",
        "                x_train = X[rep*batch_size : (rep+1) * batch_size]\n",
        "                y_train = label[rep*batch_size : (rep+1) * batch_size]\n",
        "                input = get_scores(x_train,w)\n",
        "                loss = loss_func(input,y_train) + reg_factor * torch.sum(w ** 2)\n",
        "                \n",
        "                # calculate loss gradient\n",
        "                loss.backward()\n",
        "\n",
        "                # save for plotting\n",
        "                losses.append(loss.item())\n",
        "                \n",
        "                with torch.no_grad():\n",
        "                    w.sub_(learning_rate * w.grad)\n",
        "                w.grad.data.zero_()\n",
        "\n",
        "            i += 1\n",
        "    \n",
        "    return w, losses"
      ],
      "execution_count": null,
      "outputs": []
    },
    {
      "cell_type": "code",
      "metadata": {
        "id": "tAEwJsED3-3t"
      },
      "source": [
        "\"\"\"\n",
        "Get list of predicted labels for feature set \"X\" using model \n",
        "parameterized by w.\n",
        "\"\"\"\n",
        "def predict(X, w):\n",
        "    # get scores for each class for each input\n",
        "    scores = get_scores(X, w)\n",
        "\n",
        "    # find the index of the maximum score for each input,\n",
        "    # which happens to exactly correspond to the label!\n",
        "    return torch.argmax(scores, dim=1)"
      ],
      "execution_count": null,
      "outputs": []
    },
    {
      "cell_type": "code",
      "metadata": {
        "scrolled": true,
        "id": "J9F6cPe53-3t",
        "outputId": "dba07577-5b49-426d-f4c7-1fb6f541c202"
      },
      "source": [
        "\"\"\"\n",
        "Evaluate the model parameterized by \"w\", using unseen data features \"X\" and\n",
        "corresponding labels \"y\".\n",
        "\"\"\"\n",
        "def evaluate(X, y, w):\n",
        "    # use model to get predictions\n",
        "    predictions = predict(X, w)\n",
        "\n",
        "    # total number of items in dataset\n",
        "    total = y.shape[0]\n",
        "\n",
        "    # number of correctly labeled items in dataset\n",
        "    correct = torch.sum(predictions == y.long())\n",
        "    \n",
        "    print(correct)\n",
        "    # return fraction of correctly labeled items in dataset\n",
        "    return float(correct) / float(total)\n",
        "\n",
        "if __name__ == \"__main__\":\n",
        "    # load data from file\n",
        "    train_vec, train_lab, val_vec, val_lab, test_vec, test_lab \\\n",
        "        = read_data('hw0train.txt', 'hw0validate.txt', 'hw0test.txt')\n",
        "    \n",
        "    # find w through gradient descent\n",
        "    w, losses = train(train_vec, train_lab)\n",
        "    # evaluate model on validation data\n",
        "    accuracy = evaluate(val_vec, val_lab, w)\n",
        "    \n",
        "    print(\"Validation accuracy: {}\".format(accuracy))\n",
        "\n",
        "    # plot losses\n",
        "    plt.plot(losses)\n",
        "    plt.xlabel(\"Iteration\")\n",
        "    plt.ylabel(\"Loss\")\n",
        "    plt.title(\"Loss plot\")\n",
        "    plt.show()"
      ],
      "execution_count": null,
      "outputs": [
        {
          "output_type": "stream",
          "text": [
            "tensor(701)\n",
            "Validation accuracy: 0.701\n"
          ],
          "name": "stdout"
        },
        {
          "output_type": "display_data",
          "data": {
            "image/png": "[encoded data removed]",
            "text/plain": [
              "<Figure size 432x288 with 1 Axes>"
            ]
          },
          "metadata": {
            "tags": [],
            "needs_background": "light"
          }
        }
      ]
    },
    {
      "cell_type": "code",
      "metadata": {
        "id": "tc3n1vEy3-3u"
      },
      "source": [
        ""
      ],
      "execution_count": null,
      "outputs": []
    },
    {
      "cell_type": "code",
      "metadata": {
        "id": "rNVOwA043-3u"
      },
      "source": [
        ""
      ],
      "execution_count": null,
      "outputs": []
    },
    {
      "cell_type": "code",
      "metadata": {
        "id": "98ziuip63-3u"
      },
      "source": [
        ""
      ],
      "execution_count": null,
      "outputs": []
    }
  ]
}